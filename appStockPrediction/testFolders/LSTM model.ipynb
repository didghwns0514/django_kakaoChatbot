{
 "cells": [
  {
   "cell_type": "code",
   "execution_count": 10,
   "metadata": {},
   "outputs": [
    {
     "name": "stdout",
     "output_type": "stream",
     "text": [
      "root : /Users/yanghojun/Library/Mobile Documents/com~apple~CloudDocs/Code_mac/vscode/app_StockManager/django_kakaoChatbot/appStockPrediction\n"
     ]
    }
   ],
   "source": [
    "import pickle, os\n",
    "import copy\n",
    "from pathlib import Path\n",
    "import pandas as pd\n",
    "\n",
    "# root = Path(__file__).resolve().parent.parent\n",
    "root = os.getcwd().rsplit('/',1)[0]\n",
    "print(f'root : {root}')\n",
    "\n",
    "with open(\n",
    "        os.path.join(\n",
    "            root,\n",
    "            'testMockData', 'tmpMainDF.p'\n",
    "        ), 'rb'\n",
    ") as f:\n",
    "    tmpMainDF = copy.deepcopy(pickle.load(f))\n",
    "\n",
    "with open(\n",
    "        os.path.join(\n",
    "            root,\n",
    "            'testMockData', 'tmpPredDF.p'\n",
    "        ), 'rb'\n",
    ") as f:\n",
    "    tmpPredDF = copy.deepcopy(pickle.load(f))\n"
   ]
  },
  {
   "cell_type": "code",
   "execution_count": 11,
   "metadata": {
    "pycharm": {
     "name": "#%%\n"
    }
   },
   "outputs": [
    {
     "name": "stdout",
     "output_type": "stream",
     "text": [
      "<class 'pandas.core.frame.DataFrame'>\n",
      "Int64Index: 17 entries, 0 to 0\n",
      "Data columns (total 15 columns):\n",
      " #   Column           Non-Null Count  Dtype  \n",
      "---  ------           --------------  -----  \n",
      " 0   section_integer  17 non-null     int64  \n",
      " 1   total_sum        17 non-null     int64  \n",
      " 2   time_elapsed     17 non-null     int64  \n",
      " 3   open             17 non-null     float64\n",
      " 4   high             17 non-null     float64\n",
      " 5   low              17 non-null     float64\n",
      " 6   close            17 non-null     float64\n",
      " 7   gap              17 non-null     float64\n",
      " 8   volume           17 non-null     float64\n",
      " 9   div              17 non-null     float64\n",
      " 10  per              17 non-null     float64\n",
      " 11  pbr              17 non-null     float64\n",
      " 12  market_name      17 non-null     int64  \n",
      " 13  roe              17 non-null     float64\n",
      " 14  tick             17 non-null     object \n",
      "dtypes: float64(10), int64(4), object(1)\n",
      "memory usage: 2.1+ KB\n",
      "<class 'pandas.core.frame.DataFrame'>\n",
      "Int64Index: 121 entries, 0 to 6\n",
      "Data columns (total 16 columns):\n",
      " #   Column           Non-Null Count  Dtype  \n",
      "---  ------           --------------  -----  \n",
      " 0   section_integer  121 non-null    int64  \n",
      " 1   total_sum        121 non-null    int64  \n",
      " 2   time_elapsed     121 non-null    int64  \n",
      " 3   open             121 non-null    float64\n",
      " 4   high             121 non-null    float64\n",
      " 5   low              121 non-null    float64\n",
      " 6   close            121 non-null    float64\n",
      " 7   gap              121 non-null    float64\n",
      " 8   volume           121 non-null    float64\n",
      " 9   div              121 non-null    float64\n",
      " 10  per              121 non-null    float64\n",
      " 11  pbr              121 non-null    float64\n",
      " 12  market_name      121 non-null    int64  \n",
      " 13  roe              121 non-null    float64\n",
      " 14  answer           121 non-null    float64\n",
      " 15  tick             121 non-null    object \n",
      "dtypes: float64(11), int64(4), object(1)\n",
      "memory usage: 16.1+ KB\n"
     ]
    }
   ],
   "source": [
    "tmpPredDF.info()\n",
    "tmpMainDF.info()"
   ]
  },
  {
   "cell_type": "code",
   "execution_count": 12,
   "metadata": {},
   "outputs": [
    {
     "ename": "ModuleNotFoundError",
     "evalue": "No module named 'keras'",
     "output_type": "error",
     "traceback": [
      "\u001b[0;31m---------------------------------------------------------------------------\u001b[0m",
      "\u001b[0;31mModuleNotFoundError\u001b[0m                       Traceback (most recent call last)",
      "Input \u001b[0;32mIn [12]\u001b[0m, in \u001b[0;36m<module>\u001b[0;34m\u001b[0m\n\u001b[0;32m----> 1\u001b[0m \u001b[38;5;28;01mfrom\u001b[39;00m \u001b[38;5;21;01mkeras\u001b[39;00m\u001b[38;5;21;01m.\u001b[39;00m\u001b[38;5;21;01mmodels\u001b[39;00m \u001b[38;5;28;01mimport\u001b[39;00m Sequential\n\u001b[1;32m      2\u001b[0m \u001b[38;5;28;01mfrom\u001b[39;00m \u001b[38;5;21;01mkeras\u001b[39;00m\u001b[38;5;21;01m.\u001b[39;00m\u001b[38;5;21;01mlayers\u001b[39;00m \u001b[38;5;28;01mimport\u001b[39;00m Dense\n\u001b[1;32m      3\u001b[0m \u001b[38;5;28;01mfrom\u001b[39;00m \u001b[38;5;21;01mkeras\u001b[39;00m\u001b[38;5;21;01m.\u001b[39;00m\u001b[38;5;21;01mlayers\u001b[39;00m \u001b[38;5;28;01mimport\u001b[39;00m LSTM\n",
      "\u001b[0;31mModuleNotFoundError\u001b[0m: No module named 'keras'"
     ]
    }
   ],
   "source": [
    "from keras.models import Sequential\n",
    "from keras.layers import Dense\n",
    "from keras.layers import LSTM\n",
    "from keras.layers import Dropout"
   ]
  },
  {
   "cell_type": "code",
   "execution_count": null,
   "metadata": {},
   "outputs": [],
   "source": []
  }
 ],
 "metadata": {
  "kernelspec": {
   "display_name": "PyCharm (django_kakaoChatbot)",
   "language": "python",
   "name": "pycharm-cfe82f31"
  },
  "language_info": {
   "codemirror_mode": {
    "name": "ipython",
    "version": 3
   },
   "file_extension": ".py",
   "mimetype": "text/x-python",
   "name": "python",
   "nbconvert_exporter": "python",
   "pygments_lexer": "ipython3",
   "version": "3.8.10"
  }
 },
 "nbformat": 4,
 "nbformat_minor": 1
}
