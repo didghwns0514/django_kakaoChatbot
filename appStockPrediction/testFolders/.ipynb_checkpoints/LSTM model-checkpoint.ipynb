{
 "cells": [
  {
   "cell_type": "code",
   "execution_count": 5,
   "metadata": {},
   "outputs": [
    {
     "name": "stdout",
     "output_type": "stream",
     "text": [
      "root : /Users/yanghojun/Library/Mobile Documents/com~apple~CloudDocs/Code_mac/vscode/app_StockManager/django_kakaoChatbot/appStockPrediction\n"
     ]
    }
   ],
   "source": [
    "import pickle, os\n",
    "import copy\n",
    "from pathlib import Path\n",
    "import pandas as pd\n",
    "\n",
    "# root = Path(__file__).resolve().parent.parent\n",
    "root = os.getcwd().rsplit('/',1)[0]\n",
    "print(f'root : {root}')\n",
    "\n",
    "with open(\n",
    "        os.path.join(\n",
    "            root,\n",
    "            'testMockData', 'tmpMainDF.p'\n",
    "        ), 'rb'\n",
    ") as f:\n",
    "    tmpMainDF = copy.deepcopy(pickle.load(f))\n",
    "\n",
    "with open(\n",
    "        os.path.join(\n",
    "            root,\n",
    "            'testMockData', 'tmpPredDF.p'\n",
    "        ), 'rb'\n",
    ") as f:\n",
    "    tmpPredDF = copy.deepcopy(pickle.load(f))\n"
   ]
  },
  {
   "cell_type": "code",
   "execution_count": null,
   "metadata": {
    "pycharm": {
     "name": "#%%\n"
    }
   },
   "outputs": [],
   "source": []
  }
 ],
 "metadata": {
  "kernelspec": {
   "display_name": "PyCharm (django_kakaoChatbot)",
   "language": "python",
   "name": "pycharm-cfe82f31"
  },
  "language_info": {
   "codemirror_mode": {
    "name": "ipython",
    "version": 3
   },
   "file_extension": ".py",
   "mimetype": "text/x-python",
   "name": "python",
   "nbconvert_exporter": "python",
   "pygments_lexer": "ipython3",
   "version": "3.8.10"
  }
 },
 "nbformat": 4,
 "nbformat_minor": 1
}
